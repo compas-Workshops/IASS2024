{
 "cells": [
  {
   "cell_type": "code",
   "execution_count": 1,
   "metadata": {},
   "outputs": [
    {
     "data": {
      "application/vnd.jupyter.widget-view+json": {
       "model_id": "cdb34809cda04cc9a29fe2d474fdc6f4",
       "version_major": 2,
       "version_minor": 0
      },
      "text/plain": [
       "VBox(children=(HBox(children=(Button(icon='search-plus', layout=Layout(height='32px', width='48px'), style=But…"
      ]
     },
     "metadata": {},
     "output_type": "display_data"
    }
   ],
   "source": [
    "from compas.colors import Color\n",
    "from compas.geometry import Box\n",
    "from compas_notebook import Viewer\n",
    "\n",
    "# Jupyter notebooks provide a convenient alternative for quick visualisations.\n",
    "\n",
    "# In principle, this works exactly the same as with the COMPAS Viewer.\n",
    "# Note however, that the functionality of the viewer in Jupyter notebooks is currently a bit limited...\n",
    "\n",
    "box = Box(1)\n",
    "\n",
    "viewer = Viewer()\n",
    "viewer.scene.add(box, color=Color.red())\n",
    "\n",
    "# print(viewer.scene)\n",
    "viewer.show()"
   ]
  }
 ],
 "metadata": {
  "kernelspec": {
   "display_name": "compas2",
   "language": "python",
   "name": "python3"
  },
  "language_info": {
   "codemirror_mode": {
    "name": "ipython",
    "version": 3
   },
   "file_extension": ".py",
   "mimetype": "text/x-python",
   "name": "python",
   "nbconvert_exporter": "python",
   "pygments_lexer": "ipython3",
   "version": "3.12.1"
  }
 },
 "nbformat": 4,
 "nbformat_minor": 2
}
